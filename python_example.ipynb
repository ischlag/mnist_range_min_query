{
 "cells": [
  {
   "cell_type": "code",
   "execution_count": 1,
   "metadata": {},
   "outputs": [],
   "source": [
    "import math"
   ]
  },
  {
   "cell_type": "code",
   "execution_count": 2,
   "metadata": {},
   "outputs": [
    {
     "data": {
      "text/plain": [
       "'\\nfor i in range(20):\\n    p = next_power_of_2(i)\\n    print(f\"{i} next power2 is {p}\")\\n'"
      ]
     },
     "execution_count": 2,
     "metadata": {},
     "output_type": "execute_result"
    }
   ],
   "source": [
    "def next_power_of_2(number):\n",
    "    \"\"\" Returns the next power of 2. \"\"\"\n",
    "    if number <= 0:\n",
    "        return 1\n",
    "    \n",
    "    bit_len = int.bit_length(number)\n",
    "    power2 = 2 ** (bit_len - 1)\n",
    "        \n",
    "    if power2 == number:\n",
    "        return number\n",
    "    else:\n",
    "        return power2 * 2\n",
    "\n",
    "\"\"\"\n",
    "for i in range(20):\n",
    "    p = next_power_of_2(i)\n",
    "    print(f\"{i} next power2 is {p}\")\n",
    "\"\"\"\n"
   ]
  },
  {
   "cell_type": "code",
   "execution_count": 3,
   "metadata": {},
   "outputs": [],
   "source": [
    "def build_min_seg_tree(tree, lst, low, high, pos):\n",
    "    \"\"\" Recursive function to build segment tree bottom up. \"\"\"\n",
    "    if low == high:\n",
    "        tree[pos] = lst[low]\n",
    "        print(\"tree: \", tree)\n",
    "        return\n",
    "    mid = (low + high) // 2\n",
    "    build_min_seg_tree(tree, lst, low=low, high=mid, pos=2 * pos + 1)\n",
    "    build_min_seg_tree(tree, lst, low=mid + 1, high=high, pos=2 * pos + 2)\n",
    "    print(\"left_child: \", tree[2 * pos + 1])\n",
    "    print(\"right_child: \", tree[2 * pos + 2])\n",
    "    tree[pos] = min(tree[int(2 * pos + 1)], tree[int(2 * pos + 2)])\n",
    "    print(\"tree: \", tree)"
   ]
  },
  {
   "cell_type": "code",
   "execution_count": 4,
   "metadata": {},
   "outputs": [],
   "source": [
    "def create_segment_tree(lst):\n",
    "    \"\"\" Creates segment tree from input list. \"\"\"\n",
    "    tree_len = next_power_of_2(len(lst)) * 2 - 1\n",
    "    tree = [math.inf] * tree_len    \n",
    "    build_min_seg_tree(tree, lst, low=0, high=len(lst) - 1, pos=0)\n",
    "    \n",
    "    return tree"
   ]
  },
  {
   "cell_type": "code",
   "execution_count": 5,
   "metadata": {},
   "outputs": [],
   "source": [
    "def range_min_query(tree, query_low, query_high, low, high, pos):\n",
    "    \"\"\"\n",
    "    Query range on list input using its segment tree.\n",
    "    tree: segment tree of list input\n",
    "    low: range begin of input list\n",
    "    high: range end of input list\n",
    "    query_low: query range begin in input list\n",
    "    query_high: query range end in input list\n",
    "    pos: current pointer location\n",
    "    \"\"\"\n",
    "    # total overlap case\n",
    "    if query_low <= low and query_high >= high:\n",
    "        return tree[pos]\n",
    "    \n",
    "    # no overlap\n",
    "    if query_low > high or query_high < low:\n",
    "        return math.inf\n",
    "    \n",
    "    # partial overlap\n",
    "    mid = (low + high) // 2\n",
    "    arg1 = range_min_query(tree, query_low, query_high,\n",
    "                           low=low, \n",
    "                           high=mid, \n",
    "                           pos=2*pos+1)\n",
    "    arg2 = range_min_query(tree, query_low, query_high,\n",
    "                           low=mid+1, \n",
    "                           high=high, \n",
    "                           pos=2*pos+2)\n",
    "    print(f\"compare {arg1} and {arg2}\")\n",
    "    return min(arg1, arg2)    "
   ]
  },
  {
   "cell_type": "code",
   "execution_count": 6,
   "metadata": {},
   "outputs": [],
   "source": [
    "inputs = [-1, 2, 4, 0]"
   ]
  },
  {
   "cell_type": "code",
   "execution_count": 7,
   "metadata": {},
   "outputs": [
    {
     "name": "stdout",
     "output_type": "stream",
     "text": [
      "tree:  [inf, inf, inf, -1, inf, inf, inf]\n",
      "tree:  [inf, inf, inf, -1, 2, inf, inf]\n",
      "left_child:  -1\n",
      "right_child:  2\n",
      "tree:  [inf, -1, inf, -1, 2, inf, inf]\n",
      "tree:  [inf, -1, inf, -1, 2, 4, inf]\n",
      "tree:  [inf, -1, inf, -1, 2, 4, 0]\n",
      "left_child:  4\n",
      "right_child:  0\n",
      "tree:  [inf, -1, 0, -1, 2, 4, 0]\n",
      "left_child:  -1\n",
      "right_child:  0\n",
      "tree:  [-1, -1, 0, -1, 2, 4, 0]\n"
     ]
    }
   ],
   "source": [
    "tree = create_segment_tree(inputs)"
   ]
  },
  {
   "cell_type": "code",
   "execution_count": 8,
   "metadata": {},
   "outputs": [
    {
     "name": "stdout",
     "output_type": "stream",
     "text": [
      "compare inf and 2\n",
      "compare 2 and 0\n"
     ]
    },
    {
     "data": {
      "text/plain": [
       "0"
      ]
     },
     "execution_count": 8,
     "metadata": {},
     "output_type": "execute_result"
    }
   ],
   "source": [
    "range_min_query(tree, \n",
    "                query_low=1, \n",
    "                query_high=3, \n",
    "                low=0, \n",
    "                high=len(inputs)-1, \n",
    "                pos=0)"
   ]
  },
  {
   "cell_type": "code",
   "execution_count": null,
   "metadata": {},
   "outputs": [],
   "source": []
  }
 ],
 "metadata": {
  "kernelspec": {
   "display_name": "Python 3",
   "language": "python",
   "name": "python3"
  },
  "language_info": {
   "codemirror_mode": {
    "name": "ipython",
    "version": 3
   },
   "file_extension": ".py",
   "mimetype": "text/x-python",
   "name": "python",
   "nbconvert_exporter": "python",
   "pygments_lexer": "ipython3",
   "version": "3.6.8"
  }
 },
 "nbformat": 4,
 "nbformat_minor": 2
}
